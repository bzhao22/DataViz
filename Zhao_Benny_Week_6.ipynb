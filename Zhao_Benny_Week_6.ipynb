{
 "cells": [
  {
   "cell_type": "code",
   "execution_count": 1,
   "id": "f4a9e3cb-94f5-48b6-a824-1a4f6ecf0eaa",
   "metadata": {},
   "outputs": [],
   "source": [
    "import numpy as np\n",
    "from numpy import random\n",
    "\n",
    "import matplotlib.pyplot as plt"
   ]
  },
  {
   "cell_type": "code",
   "execution_count": 2,
   "id": "ac9b229d-4eea-487c-ba1c-a2daff5a1c7a",
   "metadata": {},
   "outputs": [],
   "source": [
    "def checkCompleteCollection(currentCollection, itemCounts):\n",
    "    for i,j in zip(currentCollection.values(), itemCounts.values()):\n",
    "        if len(i) < j:\n",
    "            return False\n",
    "    else:\n",
    "        return True"
   ]
  },
  {
   "cell_type": "code",
   "execution_count": 3,
   "id": "d41ad1bb-026e-4eab-be58-e90090ad1095",
   "metadata": {},
   "outputs": [],
   "source": [
    "def simulate_helwyr(n = 10000, reputation = 10, tier3luck = True, cm = False):\n",
    "    fullCollectionCount = np.zeros(n)\n",
    "    nHelmet = np.zeros(n)\n",
    "    nBody = np.zeros(n)\n",
    "    nLegs = np.zeros(n)\n",
    "    nWand = np.zeros(n)\n",
    "    nOrb = np.zeros(n)\n",
    "    nCrest = np.zeros(n)\n",
    "    \n",
    "    reputation_denom = {0:512,\n",
    "                        1:448, 2:448, 3:448,\n",
    "                        4:384, 5:384, 6:384, 7:384,\n",
    "                        8:320, 9:320, 10:320,\n",
    "                        11:256}\n",
    "    reputation_denom_cm = {0:460,\n",
    "                           1:380, 2:380, 3:380,\n",
    "                           4:307, 5:307, 6:307, 7:307,\n",
    "                           8:240, 9:240, 10:240,\n",
    "                           11:179}\n",
    "    reputation_crest_denom = {0:128,\n",
    "                              1:112, 2:112, 3:112,\n",
    "                              4:96, 5:96, 6:96, 7:96,\n",
    "                              8:80, 9:80, 10:80,\n",
    "                              11:64}\n",
    "    reputation_crest_denom_cm = {0:115,\n",
    "                                 1:95, 2:95, 3:95,\n",
    "                                 4:76, 5:76, 6:76, 7:76,\n",
    "                                 8:60, 9:60, 10:60,\n",
    "                                 11:44}\n",
    "    denom = reputation_denom[reputation]\n",
    "    denom_crest = reputation_crest_denom[reputation]\n",
    "    if (cm):\n",
    "        denom=reputation_denom_cm[reputation]\n",
    "        denom_crest = reputation_crest_denom_cm[reputation]\n",
    "    if (tier3luck):\n",
    "        denom = denom * 0.99\n",
    "        denom_crest = denom * 0.99\n",
    "    itemCounts = {\"helmet\": 1,\n",
    "                  \"body\": 1,\n",
    "                  \"legs\": 1,\n",
    "                  \"wand\": 1,\n",
    "                  \"orb\": 1,\n",
    "                  \"crest\": 3}\n",
    "    for x in range(n):\n",
    "        currentCollection = {\"helmet\": [],\n",
    "                     \"body\": [],\n",
    "                     \"legs\": [],\n",
    "                     \"wand\": [],\n",
    "                     \"orb\": [],\n",
    "                     \"crest\": []}\n",
    "        count = 0\n",
    "        while not checkCompleteCollection(currentCollection, itemCounts):\n",
    "            count += 1\n",
    "            drop = random.rand()\n",
    "            if (drop <= ((5 * (denom ** -1)) + (denom_crest ** -1))):\n",
    "                if (drop <= denom ** -1):\n",
    "                    currentCollection[\"helmet\"].append(count)\n",
    "                elif (drop > denom **-1) and (drop <= (2 * (denom ** -1))):\n",
    "                    currentCollection[\"body\"].append(count)\n",
    "                elif (drop > (2 * (denom ** -1))) and (drop <= (3 * (denom ** -1))):\n",
    "                    currentCollection[\"legs\"].append(count)\n",
    "                elif (drop > (3 * (denom ** -1))) and (drop <= (4 * (denom ** -1))):\n",
    "                    currentCollection[\"wand\"].append(count)\n",
    "                elif (drop > (4 * (denom ** -1))) and (drop <= (5 * (denom ** -1))):\n",
    "                    currentCollection[\"orb\"].append(count)\n",
    "                elif (drop > (5 * (denom ** -1))) and (drop <= ((5 * (denom ** -1)) + (denom_crest ** -1))):\n",
    "                    currentCollection[\"crest\"].append(count)\n",
    "        fullCollectionCount[x] = count\n",
    "        nHelmet[x] = len(currentCollection[\"helmet\"])\n",
    "        nBody[x] = len(currentCollection[\"body\"])\n",
    "        nLegs[x] = len(currentCollection[\"legs\"])\n",
    "        nWand[x] = len(currentCollection[\"wand\"])\n",
    "        nOrb[x] = len(currentCollection[\"orb\"])\n",
    "        nCrest[x] = len(currentCollection[\"crest\"])\n",
    "    sim_helwyr = {\"fullCollectionCount\" : fullCollectionCount,\n",
    "                  \"nHelmet\" : nHelmet,\n",
    "                  \"nBody\" : nBody,\n",
    "                  \"nLegs\" : nLegs,\n",
    "                  \"nWand\" : nWand,\n",
    "                  \"nOrb\" : nOrb,\n",
    "                  \"nCrest\" : nCrest}\n",
    "    return sim_helwyr"
   ]
  },
  {
   "cell_type": "code",
   "execution_count": 4,
   "id": "f6abb270-1ebc-4654-a9e2-f5e5e33b7cb4",
   "metadata": {},
   "outputs": [],
   "source": [
    "n = 1000\n",
    "sim_5000 = simulate_helwyr(n = 1000)"
   ]
  },
  {
   "cell_type": "code",
   "execution_count": 5,
   "id": "eaf47197-97cd-4364-97be-1dc780e756a0",
   "metadata": {},
   "outputs": [
    {
     "data": {
      "image/png": "[encoded data removed]",
      "text/plain": [
       "<Figure size 640x480 with 1 Axes>"
      ]
     },
     "metadata": {},
     "output_type": "display_data"
    },
    {
     "name": "stdout",
     "output_type": "stream",
     "text": [
      "Out of 1000 samples, the smallest number of completions needed for a full collection log was 224.0\n",
      "Looking at the bigger picture, the average number of completions needed for a full collection log was 1097.442 ,whereas the median number of completions was 994.5\n",
      "94.8 % of individuals completed their collection log within 2,000 completions, but an unlucky 5.2 % continued beyond 2,000 completions\n"
     ]
    }
   ],
   "source": [
    "fullCollectionCount = np.array(sim_5000[\"fullCollectionCount\"])\n",
    "plt.hist(fullCollectionCount, bins = 15)\n",
    "plt.axvline(fullCollectionCount.mean(), color='k', linewidth=1)\n",
    "plt.axvline(np.median(fullCollectionCount), color='k', linestyle='dashed', linewidth=0.5)\n",
    "plt.show()\n",
    "print(\"Out of\", n, \"samples, the smallest number of completions needed for a full collection log was\",np.min(fullCollectionCount))\n",
    "print(\"Looking at the bigger picture, the average number of completions needed for a full collection log was\", np.mean(fullCollectionCount),\n",
    "      \",whereas the median number of completions was\", np.median(fullCollectionCount))\n",
    "print(np.mean(fullCollectionCount <= 2000)*100,\"% of individuals completed their collection log within 2,000 completions, but an unlucky\",\n",
    "      np.mean(fullCollectionCount> 2000)*100, \"% continued beyond 2,000 completions\")"
   ]
  }
 ],
 "metadata": {
  "kernelspec": {
   "display_name": "Python 3 (ipykernel)",
   "language": "python",
   "name": "python3"
  },
  "language_info": {
   "codemirror_mode": {
    "name": "ipython",
    "version": 3
   },
   "file_extension": ".py",
   "mimetype": "text/x-python",
   "name": "python",
   "nbconvert_exporter": "python",
   "pygments_lexer": "ipython3",
   "version": "3.7.12"
  }
 },
 "nbformat": 4,
 "nbformat_minor": 5
}
